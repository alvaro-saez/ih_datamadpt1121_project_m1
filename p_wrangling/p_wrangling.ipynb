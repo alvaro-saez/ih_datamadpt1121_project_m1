{
 "cells": [
  {
   "cell_type": "markdown",
   "id": "7a38daea",
   "metadata": {},
   "source": [
    "## WRANGLING SCRIPT\n",
    "\n",
    "IN THIS SCRIPT WE TRANSFORM THE INITIAL DATAFRAMES TO CREATE THE FINAL DATAFRAMES"
   ]
  },
  {
   "cell_type": "code",
   "execution_count": 1,
   "id": "8d1d884e",
   "metadata": {},
   "outputs": [],
   "source": [
    "import pandas as pd\n",
    "from shapely.geometry import Point\n",
    "import geopandas as gpd   # conda install -c conda-forge geopandas\n",
    "import numpy as np\n",
    "import requests\n",
    "import warnings\n",
    "warnings.filterwarnings('ignore');\n"
   ]
  },
  {
   "cell_type": "code",
   "execution_count": 18,
   "id": "7654979e",
   "metadata": {},
   "outputs": [],
   "source": [
    "def datasets_transformados(parques_municipales_df,bicimad_st_df):\n",
    "    #PARQUES MUNICIAPLES DATAFRAME --> we add a static value to use in the main user script\n",
    "    parques_municipales_df[\"Type of Place\"] = \"Principales parques y jardines municipales\"\n",
    "    \n",
    "    #BICIMAD DATAFRAME --> we extract the Longitude and Latitude\n",
    "    def bicimad_geo_long(geo):\n",
    "        geo_clean = str(geo).replace(\"[\",\"\").replace(\"]\",\"\").split(\",\")\n",
    "        longitud = geo_clean[0].strip()\n",
    "        return longitud\n",
    "    bicimad_st_df[\"LONGITUD\"] = bicimad_st_df[\"geometry_coordinates\"].apply(bicimad_geo_long)\n",
    "    \n",
    "    def bicimad_geo_lat(geo):\n",
    "        geo_clean = str(geo).replace(\"[\",\"\").replace(\"]\",\"\").split(\",\")\n",
    "        latitud = geo_clean[1].strip()\n",
    "        return latitud\n",
    "    bicimad_st_df[\"LATITUD\"] = bicimad_st_df[\"geometry_coordinates\"].apply(bicimad_geo_lat)\n",
    "\n",
    "    return \"transformed datasets with success\""
   ]
  },
  {
   "cell_type": "code",
   "execution_count": 19,
   "id": "cad08bea",
   "metadata": {},
   "outputs": [],
   "source": [
    "#transform_parques_municipales(parques_municipales_df) "
   ]
  }
 ],
 "metadata": {
  "kernelspec": {
   "display_name": "Python [conda env:proytest]",
   "language": "python",
   "name": "conda-env-proytest-py"
  },
  "language_info": {
   "codemirror_mode": {
    "name": "ipython",
    "version": 3
   },
   "file_extension": ".py",
   "mimetype": "text/x-python",
   "name": "python",
   "nbconvert_exporter": "python",
   "pygments_lexer": "ipython3",
   "version": "3.7.11"
  }
 },
 "nbformat": 4,
 "nbformat_minor": 5
}
