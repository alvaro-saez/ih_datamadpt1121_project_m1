{
 "cells": [
  {
   "cell_type": "code",
   "execution_count": 1,
   "id": "596c5e15",
   "metadata": {},
   "outputs": [],
   "source": [
    "import pandas as pd\n",
    "from shapely.geometry import Point\n",
    "import geopandas as gpd   # conda install -c conda-forge geopandas\n",
    "import numpy as np\n",
    "import requests"
   ]
  },
  {
   "cell_type": "markdown",
   "id": "8cbc6f76",
   "metadata": {},
   "source": [
    "#### importar dataset parques municipales"
   ]
  },
  {
   "cell_type": "code",
   "execution_count": 10,
   "id": "d25f2ca4",
   "metadata": {},
   "outputs": [],
   "source": [
    "# location = \"../datasets/parques_municipales.csv\"\n",
    "def import_parques_municipales(location_parque):\n",
    "    parques_municipales_df = pd.read_csv(location_parque, sep=';')\n",
    "    return parques_municipales_df\n"
   ]
  },
  {
   "cell_type": "code",
   "execution_count": 5,
   "id": "f1693489",
   "metadata": {},
   "outputs": [],
   "source": [
    "#location = \"../datasets/parques_municipales.csv\"\n",
    "#import_parques_municipales(location)"
   ]
  },
  {
   "cell_type": "markdown",
   "id": "def0dd18",
   "metadata": {},
   "source": [
    "#### importar dataset bicimad"
   ]
  },
  {
   "cell_type": "code",
   "execution_count": 11,
   "id": "73733aec",
   "metadata": {},
   "outputs": [],
   "source": [
    "def import_bicimad(location_bici):\n",
    "    bicimad_st_df = pd.read_csv(location_bici, sep=',')\n",
    "    return bicimad_st_df"
   ]
  },
  {
   "cell_type": "code",
   "execution_count": 8,
   "id": "eb0da17f",
   "metadata": {},
   "outputs": [],
   "source": [
    "#location = \"../datasets/bicimad_statios_database.csv\"\n",
    "#import_bicimad(location)"
   ]
  },
  {
   "cell_type": "code",
   "execution_count": null,
   "id": "1cdf3536",
   "metadata": {},
   "outputs": [],
   "source": []
  }
 ],
 "metadata": {
  "kernelspec": {
   "display_name": "Python [conda env:proytest]",
   "language": "python",
   "name": "conda-env-proytest-py"
  },
  "language_info": {
   "codemirror_mode": {
    "name": "ipython",
    "version": 3
   },
   "file_extension": ".py",
   "mimetype": "text/x-python",
   "name": "python",
   "nbconvert_exporter": "python",
   "pygments_lexer": "ipython3",
   "version": "3.7.11"
  }
 },
 "nbformat": 4,
 "nbformat_minor": 5
}
