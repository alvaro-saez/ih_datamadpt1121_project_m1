{
 "cells": [
  {
   "cell_type": "code",
   "execution_count": 14,
   "id": "596c5e15",
   "metadata": {},
   "outputs": [],
   "source": [
    "import pandas as pd\n",
    "from shapely.geometry import Point\n",
    "import geopandas as gpd   # conda install -c conda-forge geopandas\n",
    "import numpy as np\n",
    "import requests\n",
    "#import warnings\n",
    "#warnings.filterwarnings('ignore');"
   ]
  },
  {
   "cell_type": "markdown",
   "id": "6faebcff",
   "metadata": {},
   "source": [
    "#### importar dataset parques municipales"
   ]
  },
  {
   "cell_type": "markdown",
   "id": "902942bd",
   "metadata": {},
   "source": [
    "The best practice would be to use the API of the city council of Madrid but I use the CSV because it has more information:\n",
    "\n",
    "json_parques =  requests.get(\"https://datos.madrid.es/egob/catalogo/200761-0-parques-jardines.json\").json()[\"@graph\"]\n",
    "\n",
    "json_parques_df = pd.json_normalize(json_parques)"
   ]
  },
  {
   "cell_type": "code",
   "execution_count": 15,
   "id": "286cc854",
   "metadata": {},
   "outputs": [],
   "source": [
    "# location = \"../datasets/parques_municipales.csv\"\n",
    "def import_parques_municipales(location_parque):\n",
    "    parques_municipales_df = pd.read_csv(location_parque, sep=';')\n",
    "    return parques_municipales_df\n"
   ]
  },
  {
   "cell_type": "code",
   "execution_count": 16,
   "id": "fa5cbb44",
   "metadata": {},
   "outputs": [],
   "source": [
    "#location = \"../datasets/parques_municipales.csv\"\n",
    "#import_parques_municipales(location)"
   ]
  },
  {
   "cell_type": "markdown",
   "id": "2c80402b",
   "metadata": {},
   "source": [
    "#### importar dataset bicimad"
   ]
  },
  {
   "cell_type": "markdown",
   "id": "7a98782d",
   "metadata": {},
   "source": [
    "The best practice would be to use the BiciMAD API service.\n",
    "\n",
    "(DOCUMENTATION API: https://apidocs.emtmadrid.es/#api-Block_4_TRANSPORT_BICIMAD-List_of_Bicimad_Stations)\n",
    "\n",
    "<---------------------------------------\n",
    "\n",
    "\n",
    "    email = \"xxxxxxxxxx\"\n",
    "\n",
    "    psw = \"xxxxxxxx\"\n",
    "\n",
    "    auth_url = \"https://openapi.emtmadrid.es/v1/mobilitylabs/user/login/\"\n",
    "    \n",
    "        json_bicimad =  requests.get(auth_url, headers={\"email\":email,\"password\":psw})\n",
    "    \n",
    "        json_bicimad_token = json_bicimad.json()['data'][0]['accessToken']\n",
    "\n",
    "<---------------------------------------\n",
    "\n",
    "    bicimad_list_url = \"https://openapi.emtmadrid.es/v1/transport/bicimad/stations/\"\n",
    "\n",
    "        json_bicimad_list = requests.get(bicimad_list_url, headers = {\"accessToken\":json_bicimad_token}).json()\n",
    "\n",
    "        json_bicimad_df = pd.json_normalize(json_bicimad_list)[\"data\"][0]\n",
    "\n",
    "        json_bicimad_df2 = pd.DataFrame(json_bicimad_df)\n"
   ]
  },
  {
   "cell_type": "code",
   "execution_count": 17,
   "id": "35b91db9",
   "metadata": {},
   "outputs": [],
   "source": [
    "def import_bicimad(location_bici):\n",
    "    bicimad_st_df = pd.read_csv(location_bici, sep=',')\n",
    "    return bicimad_st_df"
   ]
  },
  {
   "cell_type": "code",
   "execution_count": 18,
   "id": "fb4ec780",
   "metadata": {},
   "outputs": [],
   "source": [
    "#location = \"../datasets/bicimad_statios_database.csv\"\n",
    "#import_bicimad(location)"
   ]
  },
  {
   "cell_type": "code",
   "execution_count": null,
   "id": "0a512a3d",
   "metadata": {},
   "outputs": [],
   "source": []
  }
 ],
 "metadata": {
  "kernelspec": {
   "display_name": "Python [conda env:proytest]",
   "language": "python",
   "name": "conda-env-proytest-py"
  },
  "language_info": {
   "codemirror_mode": {
    "name": "ipython",
    "version": 3
   },
   "file_extension": ".py",
   "mimetype": "text/x-python",
   "name": "python",
   "nbconvert_exporter": "python",
   "pygments_lexer": "ipython3",
   "version": "3.7.11"
  }
 },
 "nbformat": 4,
 "nbformat_minor": 5
}
