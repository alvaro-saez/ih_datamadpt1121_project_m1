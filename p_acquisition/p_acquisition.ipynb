{
 "cells": [
  {
   "cell_type": "markdown",
   "id": "47b4d872",
   "metadata": {},
   "source": [
    "## ACQUISITION SCRIPT\n",
    "\n",
    "IN THIS SCRIPT WE IMPORT ALL THE DATA NEEDED TO CREATE THE FINAL DATAFRAMES"
   ]
  },
  {
   "cell_type": "code",
   "execution_count": 14,
   "id": "596c5e15",
   "metadata": {},
   "outputs": [],
   "source": [
    "import pandas as pd\n",
    "from shapely.geometry import Point\n",
    "import geopandas as gpd   # conda install -c conda-forge geopandas\n",
    "import numpy as np\n",
    "import requests\n",
    "import warnings\n",
    "warnings.filterwarnings('ignore');"
   ]
  },
  {
   "cell_type": "markdown",
   "id": "6faebcff",
   "metadata": {},
   "source": [
    "#### Import dataset of \"parques municipales\""
   ]
  },
  {
   "cell_type": "markdown",
   "id": "902942bd",
   "metadata": {},
   "source": [
    "The best practice would be to use the API of the city council of Madrid but I use the CSV because it has more information and my main objective is to create an app about the parks of Madrid, not about BiciMAD. This information is not updated everyday, so it is feasible to download the csv once per month:\n",
    "\n",
    "The API code would be the next one:\n",
    "\n",
    "    json_parques =  requests.get(\"https://datos.madrid.es/egob/catalogo/200761-0-parques-jardines.json\").json()[\"@graph\"]\n",
    "\n",
    "    json_parques_df = pd.json_normalize(json_parques)"
   ]
  },
  {
   "cell_type": "code",
   "execution_count": 15,
   "id": "286cc854",
   "metadata": {},
   "outputs": [],
   "source": [
    "# location = \"../datasets/parques_municipales.csv\"\n",
    "def import_parques_municipales(location_parque):\n",
    "    parques_municipales_df = pd.read_csv(location_parque, sep=';')\n",
    "    return parques_municipales_df"
   ]
  },
  {
   "cell_type": "code",
   "execution_count": 16,
   "id": "fa5cbb44",
   "metadata": {},
   "outputs": [],
   "source": [
    "#location = \"../datasets/parques_municipales.csv\"\n",
    "#import_parques_municipales(location)"
   ]
  },
  {
   "cell_type": "markdown",
   "id": "2c80402b",
   "metadata": {},
   "source": [
    "#### Import dataset of bicimad API"
   ]
  },
  {
   "cell_type": "markdown",
   "id": "7a98782d",
   "metadata": {},
   "source": [
    "The best practice is to use the BiciMAD API service beacuse it has information which changes every day.\n",
    "\n",
    "(DOCUMENTATION API: https://apidocs.emtmadrid.es/#api-Block_4_TRANSPORT_BICIMAD-List_of_Bicimad_Stations)"
   ]
  },
  {
   "cell_type": "code",
   "execution_count": null,
   "id": "ac971e31",
   "metadata": {},
   "outputs": [],
   "source": [
    "def bicimad_api(email,psw):\n",
    "    auth_url = \"https://openapi.emtmadrid.es/v1/mobilitylabs/user/login/\"\n",
    "    json_bicimad =  requests.get(auth_url, headers={\"email\":email,\"password\":psw})\n",
    "    json_bicimad_token= json_bicimad.json()['data'][0]['accessToken']\n",
    "    bicimad_list_url = \"https://openapi.emtmadrid.es/v1/transport/bicimad/stations/\"\n",
    "    json_bicimad_list = requests.get(bicimad_list_url, headers = {\"accessToken\":json_bicimad_token}).json()\n",
    "    json_bicimad_df = pd.json_normalize(json_bicimad_list)[\"data\"][0]\n",
    "    \n",
    "    def geometry_coordinates_bm(geometry):\n",
    "        geometry_coordinates = geometry[\"coordinates\"]\n",
    "        return geometry_coordinates\n",
    "    \n",
    "    bicimad_st_df = pd.DataFrame(json_bicimad_df)\n",
    "    bicimad_st_df[\"geometry_type\"] = \"Point\"\n",
    "    bicimad_st_df[\"geometry_coordinates\"] = bicimad_st_df[\"geometry\"].apply(geometry_coordinates_bm)\n",
    "    \n",
    "    bicimad_st_df = bicimad_st_df.drop([\"geometry\"], axis=1)\n",
    "    \n",
    "    return bicimad_st_df"
   ]
  },
  {
   "cell_type": "markdown",
   "id": "fc06683b",
   "metadata": {},
   "source": [
    "The code to use a csv file would be the next one:"
   ]
  },
  {
   "cell_type": "markdown",
   "id": "d1328c92",
   "metadata": {},
   "source": [
    "    def import_bicimad(location_bici):\n",
    "\n",
    "        bicimad_st_df = pd.read_csv(location_bici, sep=',')\n",
    "\n",
    "        return bicimad_st_df"
   ]
  },
  {
   "cell_type": "code",
   "execution_count": 1,
   "id": "fb4ec780",
   "metadata": {},
   "outputs": [],
   "source": [
    "#bicimad_api(email,psw)"
   ]
  }
 ],
 "metadata": {
  "kernelspec": {
   "display_name": "Python [conda env:proytest]",
   "language": "python",
   "name": "conda-env-proytest-py"
  },
  "language_info": {
   "codemirror_mode": {
    "name": "ipython",
    "version": 3
   },
   "file_extension": ".py",
   "mimetype": "text/x-python",
   "name": "python",
   "nbconvert_exporter": "python",
   "pygments_lexer": "ipython3",
   "version": "3.7.11"
  }
 },
 "nbformat": 4,
 "nbformat_minor": 5
}
