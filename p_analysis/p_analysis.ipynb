{
 "cells": [
  {
   "cell_type": "code",
   "execution_count": 1,
   "id": "2fa29a07",
   "metadata": {},
   "outputs": [],
   "source": [
    "import pandas as pd\n",
    "from shapely.geometry import Point\n",
    "import geopandas as gpd   # conda install -c conda-forge geopandas\n",
    "import numpy as np\n",
    "import requests"
   ]
  },
  {
   "cell_type": "code",
   "execution_count": 2,
   "id": "72fba2dd",
   "metadata": {},
   "outputs": [],
   "source": [
    "#parques_municipales_df = pd.read_csv(\"../datasets/parques_municipales.csv\", sep=';')"
   ]
  },
  {
   "cell_type": "code",
   "execution_count": 3,
   "id": "970d1401",
   "metadata": {},
   "outputs": [],
   "source": [
    "#bicimad_st_df = pd.read_csv(\"../datasets/bicimad_statios_database.csv\", sep=',')"
   ]
  },
  {
   "cell_type": "code",
   "execution_count": 4,
   "id": "00803bd9",
   "metadata": {},
   "outputs": [],
   "source": [
    "\"\"\"\n",
    "def transform_parques_municipales(parques_municipales_df):\n",
    "    parques_municipales_df[\"Type of Place\"] = \"Principales parques y jardines municipales\"\n",
    "    \n",
    "    def bicimad_geo_long(geo):\n",
    "        geo_clean = geo.replace(\"[\",\"\").replace(\"]\",\"\").split(\",\")\n",
    "        longitud = geo_clean[0].strip()\n",
    "        return longitud\n",
    "    bicimad_st_df[\"LONGITUD\"] = bicimad_st_df[\"geometry_coordinates\"].apply(bicimad_geo_long)\n",
    "    \n",
    "    def bicimad_geo_lat(geo):\n",
    "        geo_clean = geo.replace(\"[\",\"\").replace(\"]\",\"\").split(\",\")\n",
    "        latitud = geo_clean[1].strip()\n",
    "        return latitud\n",
    "    bicimad_st_df[\"LATITUD\"] = bicimad_st_df[\"geometry_coordinates\"].apply(bicimad_geo_lat)\n",
    "\n",
    "    return \"datasets trasnformados\"\n",
    "\"\"\""
   ]
  },
  {
   "cell_type": "code",
   "execution_count": 5,
   "id": "648e527a",
   "metadata": {},
   "outputs": [
    {
     "data": {
      "text/plain": [
       "'datasets trasnformados'"
      ]
     },
     "execution_count": 5,
     "metadata": {},
     "output_type": "execute_result"
    }
   ],
   "source": [
    "#transform_parques_municipales(parques_municipales_df) "
   ]
  },
  {
   "cell_type": "markdown",
   "id": "886c482d",
   "metadata": {},
   "source": [
    "#### preparar la tabla final\n"
   ]
  },
  {
   "cell_type": "code",
   "execution_count": 13,
   "id": "5ba65d7f",
   "metadata": {},
   "outputs": [],
   "source": [
    "def preparar_tabla_place(parques_municipales_df):\n",
    "    final_df_colnames_place = [\"Place of interest\",\"Type of place\",\"Place address\",\"Place distrit\",\"Place neighborhood\",\"Place description\",\"Place transport\",\"Place latitude\",\"Place longitude\"]\n",
    "    final_df_place = parques_municipales_df[[\"NOMBRE\",\"Type of Place\",\"NOMBRE-VIA\",\"DISTRITO\", \"BARRIO\", \"DESCRIPCION-ENTIDAD\", \"TRANSPORTE\",\"LATITUD\",\"LONGITUD\"]]\n",
    "    final_df_place.columns = final_df_colnames_place\n",
    "    \n",
    "    def to_mercator2(lat, long):\n",
    "    # transform latitude/longitude data in degrees to pseudo-mercator coordinates in metres\n",
    "        c = gpd.GeoSeries([Point(lat, long)], crs=4326)\n",
    "        c = c.to_crs(3857)\n",
    "        return c\n",
    "    \n",
    "    final_df_place[\"mercator place\"] = final_df_place.apply(lambda final_df_place: to_mercator2(final_df_place[\"Place latitude\"], final_df_place[\"Place longitude\"]), axis=1)\n",
    "    return final_df_place"
   ]
  },
  {
   "cell_type": "code",
   "execution_count": 21,
   "id": "cbf27a69",
   "metadata": {},
   "outputs": [
    {
     "name": "stderr",
     "output_type": "stream",
     "text": [
      "C:\\Users\\AlvaroSaez\\miniconda3\\envs\\proytest\\lib\\site-packages\\ipykernel_launcher.py:12: SettingWithCopyWarning: \n",
      "A value is trying to be set on a copy of a slice from a DataFrame.\n",
      "Try using .loc[row_indexer,col_indexer] = value instead\n",
      "\n",
      "See the caveats in the documentation: https://pandas.pydata.org/pandas-docs/stable/user_guide/indexing.html#returning-a-view-versus-a-copy\n",
      "  if sys.path[0] == '':\n"
     ]
    }
   ],
   "source": [
    "#final_df_place = preparar_tabla_place(parques_municipales_df)\n",
    "#final_df_place"
   ]
  },
  {
   "cell_type": "code",
   "execution_count": 17,
   "id": "d26a0da3",
   "metadata": {},
   "outputs": [],
   "source": [
    "def preparar_tabla_bicimad(bicimad_st_df):\n",
    "    final_df_colnames_bici = [\"BiciMAD station\",\"Station location\",\"Station latitude\",\"Station longitude\",\"Station base availability\",\"Station Bikes Availability\"]\n",
    "    final_df_bici = bicimad_st_df[[\"name\",\"address\",\"LATITUD\",\"LONGITUD\", \"no_available\", \"dock_bikes\"]]\n",
    "    final_df_bici.columns = final_df_colnames_bici\n",
    "    \n",
    "    def change_availability(data):\n",
    "        if data == 0:\n",
    "            return \"disponible\"\n",
    "        elif data == 1:\n",
    "            return \"no disponible\"\n",
    "        else:\n",
    "            return data\n",
    "        \n",
    "    final_df_bici[\"Station base availability\"] = final_df_bici[\"Station base availability\"].apply(change_availability)\n",
    "    \n",
    "    def to_mercator2(lat, long):\n",
    "    # transform latitude/longitude data in degrees to pseudo-mercator coordinates in metres\n",
    "        c = gpd.GeoSeries([Point(lat, long)], crs=4326)\n",
    "        c = c.to_crs(3857)\n",
    "        return c\n",
    "    \n",
    "    final_df_bici[\"Station latitude\"] = pd.to_numeric(final_df_bici[\"Station latitude\"])\n",
    "    final_df_bici[\"Station longitude\"] = pd.to_numeric(final_df_bici[\"Station longitude\"])\n",
    "    final_df_bici[\"mercator station\"] = final_df_bici.apply(lambda final_df_bici: to_mercator2(final_df_bici[\"Station latitude\"], final_df_bici[\"Station longitude\"]), axis=1)\n",
    "    \n",
    "    return final_df_bici"
   ]
  },
  {
   "cell_type": "code",
   "execution_count": 22,
   "id": "e565f677",
   "metadata": {},
   "outputs": [
    {
     "name": "stderr",
     "output_type": "stream",
     "text": [
      "C:\\Users\\AlvaroSaez\\miniconda3\\envs\\proytest\\lib\\site-packages\\ipykernel_launcher.py:14: SettingWithCopyWarning: \n",
      "A value is trying to be set on a copy of a slice from a DataFrame.\n",
      "Try using .loc[row_indexer,col_indexer] = value instead\n",
      "\n",
      "See the caveats in the documentation: https://pandas.pydata.org/pandas-docs/stable/user_guide/indexing.html#returning-a-view-versus-a-copy\n",
      "  \n",
      "C:\\Users\\AlvaroSaez\\miniconda3\\envs\\proytest\\lib\\site-packages\\ipykernel_launcher.py:22: SettingWithCopyWarning: \n",
      "A value is trying to be set on a copy of a slice from a DataFrame.\n",
      "Try using .loc[row_indexer,col_indexer] = value instead\n",
      "\n",
      "See the caveats in the documentation: https://pandas.pydata.org/pandas-docs/stable/user_guide/indexing.html#returning-a-view-versus-a-copy\n",
      "C:\\Users\\AlvaroSaez\\miniconda3\\envs\\proytest\\lib\\site-packages\\ipykernel_launcher.py:23: SettingWithCopyWarning: \n",
      "A value is trying to be set on a copy of a slice from a DataFrame.\n",
      "Try using .loc[row_indexer,col_indexer] = value instead\n",
      "\n",
      "See the caveats in the documentation: https://pandas.pydata.org/pandas-docs/stable/user_guide/indexing.html#returning-a-view-versus-a-copy\n",
      "C:\\Users\\AlvaroSaez\\miniconda3\\envs\\proytest\\lib\\site-packages\\ipykernel_launcher.py:24: SettingWithCopyWarning: \n",
      "A value is trying to be set on a copy of a slice from a DataFrame.\n",
      "Try using .loc[row_indexer,col_indexer] = value instead\n",
      "\n",
      "See the caveats in the documentation: https://pandas.pydata.org/pandas-docs/stable/user_guide/indexing.html#returning-a-view-versus-a-copy\n"
     ]
    }
   ],
   "source": [
    "#final_df_bici = preparar_tabla_bicimad(bicimad_st_df)\n",
    "#final_df_bici"
   ]
  },
  {
   "cell_type": "code",
   "execution_count": 25,
   "id": "b2591186",
   "metadata": {},
   "outputs": [],
   "source": [
    "def preparar_tabla_final(final_df_place,final_df_bici):\n",
    "    final_df_colnames_total = [\"Place of interest\",\"Type of place\",\"Place address\",\"Place distrit\",\"Place neighborhood\",\"Place description\",\"Place transport\",\"Place latitude\",\"Place longitude\",\"mercator place\",\"BiciMAD station\",\"Station location\",\"Station latitude\",\"Station longitude\",\"Station base availability\",\"Station Bikes Availability\",\"mercator station\"]\n",
    "    \n",
    "    final_df_list =[]\n",
    "    for i in range(len(final_df_place)): #203 filas\n",
    "        for e in range(len(final_df_bici)): # 264 filas\n",
    "            #raw_number = i*e #53592 filas\n",
    "            #final_df.loc[raw_number] = final_df_place.loc[i].append(final_df_bici.loc[e])\n",
    "            str_individual = final_df_place.loc[i].append(final_df_bici.loc[e])\n",
    "            list_individual = str_individual.tolist()\n",
    "            final_df_list.append(list_individual)\n",
    "\n",
    "    final_df = pd.DataFrame(final_df_list,columns=final_df_colnames_total)\n",
    "    \n",
    "    def distance_meters(start,finish):\n",
    "    # return the distance in metres between to latitude/longitude pair point in degrees (i.e.: 40.392436 / -3.6994487)\n",
    "    #start = to_mercator2(lat_start, long_start)\n",
    "    #finish = to_mercator2(lat_finish, long_finish)\n",
    "        return start.distance(finish)\n",
    "    \n",
    "    final_df[\"Distance Between BiciMAD station and Place of interest\"] = final_df.apply(lambda final_df: distance_meters(final_df[\"mercator place\"], final_df[\"mercator station\"]), axis=1)\n",
    "    \n",
    "    final_df_full_info_csv_optimizated = final_df.to_csv(\"datasets/final_df_full_info_optimizated.csv\", sep=',')\n",
    "    \n",
    "    return final_df"
   ]
  },
  {
   "cell_type": "code",
   "execution_count": 27,
   "id": "1abf0c08",
   "metadata": {},
   "outputs": [],
   "source": [
    "#final_df = preparar_tabla_final(final_df_place,final_df_bici)\n",
    "#final_df"
   ]
  },
  {
   "cell_type": "markdown",
   "id": "4f4d191b",
   "metadata": {},
   "source": [
    "#### preparar la tabla minimizada\n"
   ]
  },
  {
   "cell_type": "code",
   "execution_count": 34,
   "id": "b99fcbcd",
   "metadata": {},
   "outputs": [],
   "source": [
    "def preparar_tabla_final_minimizada(final_df):\n",
    "    total_distance = final_df[\"Distance Between BiciMAD station and Place of interest\"].tolist()\n",
    "\n",
    "    total_distance_array = np.array(total_distance).reshape(203,264)\n",
    "\n",
    "    total_distance_array_min = []\n",
    "    for i in total_distance_array:\n",
    "        total_distance_array_min.append(i.min())\n",
    "\n",
    "    list_min=[]\n",
    "    for i in total_distance_array_min:\n",
    "        linea_para_df = final_df.loc[final_df[\"Distance Between BiciMAD station and Place of interest\"]==i]\n",
    "        linea_para_df_list = linea_para_df.values.tolist()[0]\n",
    "        list_min.append(linea_para_df_list)\n",
    "\n",
    "    final_df_colnames_total = [\"Place of interest\",\"Type of place\",\"Place address\",\"Place distrit\",\"Place neighborhood\",\"Place description\",\"Place transport\",\"Place latitude\",\"Place longitude\",\"mercator place\",\"BiciMAD station\",\"Station location\",\"Station latitude\",\"Station longitude\",\"Station base availability\",\"Station Bikes Availability\",\"mercator station\"]\n",
    "    final_df_min_distance = pd.DataFrame(list_min, columns=final_df_colnames_total+[\"Distance Between BiciMAD station and Place of interest\"])\n",
    "    \n",
    "    final_df_min_distance_csv_optimizated = final_df_min_distance.to_csv(\"datasets/final_df_min_distance_optimizated.csv\", sep=',')\n",
    "    \n",
    "    return final_df_min_distance"
   ]
  },
  {
   "cell_type": "code",
   "execution_count": 36,
   "id": "83d5d6aa",
   "metadata": {},
   "outputs": [],
   "source": [
    "#final_df_min_distance = preparar_tabla_final_minimizada(final_df)\n",
    "#final_df_min_distance"
   ]
  },
  {
   "cell_type": "code",
   "execution_count": null,
   "id": "b5d9ea34",
   "metadata": {},
   "outputs": [],
   "source": []
  }
 ],
 "metadata": {
  "kernelspec": {
   "display_name": "Python [conda env:proytest]",
   "language": "python",
   "name": "conda-env-proytest-py"
  },
  "language_info": {
   "codemirror_mode": {
    "name": "ipython",
    "version": 3
   },
   "file_extension": ".py",
   "mimetype": "text/x-python",
   "name": "python",
   "nbconvert_exporter": "python",
   "pygments_lexer": "ipython3",
   "version": "3.7.11"
  }
 },
 "nbformat": 4,
 "nbformat_minor": 5
}
