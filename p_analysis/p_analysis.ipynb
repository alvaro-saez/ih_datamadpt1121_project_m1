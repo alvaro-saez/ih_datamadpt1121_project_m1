{
 "cells": [
  {
   "cell_type": "code",
   "execution_count": 50,
   "id": "2fa29a07",
   "metadata": {},
   "outputs": [],
   "source": [
    "import pandas as pd\n",
    "from shapely.geometry import Point\n",
    "import geopandas as gpd   # conda install -c conda-forge geopandas\n",
    "import numpy as np\n",
    "import requests\n",
    "#import warnings\n",
    "#warnings.filterwarnings('ignore')\n",
    "import osmnx as ox\n",
    "import folium"
   ]
  },
  {
   "cell_type": "markdown",
   "id": "75c8eec1",
   "metadata": {},
   "source": [
    "#### preparar la tabla final\n"
   ]
  },
  {
   "cell_type": "code",
   "execution_count": 41,
   "id": "81c8bad7",
   "metadata": {},
   "outputs": [],
   "source": [
    "def preparar_tabla_place(parques_municipales_df):\n",
    "    final_df_colnames_place = [\"Place of interest\",\"Type of place\",\"Place address\",\"Place distrit\",\"Place neighborhood\",\"Place description\",\"Place transport\",\"Place latitude\",\"Place longitude\"]\n",
    "    final_df_place = parques_municipales_df[[\"NOMBRE\",\"Type of Place\",\"NOMBRE-VIA\",\"DISTRITO\", \"BARRIO\", \"DESCRIPCION-ENTIDAD\", \"TRANSPORTE\",\"LATITUD\",\"LONGITUD\"]]\n",
    "    final_df_place.columns = final_df_colnames_place\n",
    "    \n",
    "    def to_mercator2(lat, long):\n",
    "    # transform latitude/longitude data in degrees to pseudo-mercator coordinates in metres\n",
    "        c = gpd.GeoSeries([Point(lat, long)], crs=4326)\n",
    "        c = c.to_crs(3857)\n",
    "        return c\n",
    "    \n",
    "    final_df_place[\"mercator place\"] = final_df_place.apply(lambda final_df_place: to_mercator2(final_df_place[\"Place latitude\"], final_df_place[\"Place longitude\"]), axis=1)\n",
    "    return final_df_place"
   ]
  },
  {
   "cell_type": "code",
   "execution_count": 42,
   "id": "4b4b3190",
   "metadata": {},
   "outputs": [],
   "source": [
    "#final_df_place = preparar_tabla_place(parques_municipales_df)\n",
    "#final_df_place"
   ]
  },
  {
   "cell_type": "code",
   "execution_count": 43,
   "id": "27628d4f",
   "metadata": {},
   "outputs": [],
   "source": [
    "def preparar_tabla_bicimad(bicimad_st_df):\n",
    "    final_df_colnames_bici = [\"BiciMAD station\",\"Station location\",\"Station latitude\",\"Station longitude\",\"Station base availability\",\"Station Bikes Availability\"]\n",
    "    final_df_bici = bicimad_st_df[[\"name\",\"address\",\"LATITUD\",\"LONGITUD\", \"no_available\", \"dock_bikes\"]]\n",
    "    final_df_bici.columns = final_df_colnames_bici\n",
    "    \n",
    "    def change_availability(data):\n",
    "        if data == 0:\n",
    "            return \"disponible\"\n",
    "        elif data == 1:\n",
    "            return \"no disponible\"\n",
    "        else:\n",
    "            return data\n",
    "        \n",
    "    final_df_bici[\"Station base availability\"] = final_df_bici[\"Station base availability\"].apply(change_availability)\n",
    "    \n",
    "    def to_mercator2(lat, long):\n",
    "    # transform latitude/longitude data in degrees to pseudo-mercator coordinates in metres\n",
    "        c = gpd.GeoSeries([Point(lat, long)], crs=4326)\n",
    "        c = c.to_crs(3857)\n",
    "        return c\n",
    "    \n",
    "    final_df_bici[\"Station latitude\"] = pd.to_numeric(final_df_bici[\"Station latitude\"])\n",
    "    final_df_bici[\"Station longitude\"] = pd.to_numeric(final_df_bici[\"Station longitude\"])\n",
    "    final_df_bici[\"mercator station\"] = final_df_bici.apply(lambda final_df_bici: to_mercator2(final_df_bici[\"Station latitude\"], final_df_bici[\"Station longitude\"]), axis=1)\n",
    "    \n",
    "    return final_df_bici"
   ]
  },
  {
   "cell_type": "code",
   "execution_count": 44,
   "id": "67340fbf",
   "metadata": {},
   "outputs": [],
   "source": [
    "#final_df_bici = preparar_tabla_bicimad(bicimad_st_df)\n",
    "#final_df_bici"
   ]
  },
  {
   "cell_type": "code",
   "execution_count": 45,
   "id": "cb6ca4b3",
   "metadata": {},
   "outputs": [],
   "source": [
    "def preparar_tabla_final(final_df_place,final_df_bici):\n",
    "    \n",
    "    final_df = final_df_place.assign(key=1).merge(final_df_bici.assign(key=1), how='outer', on = 'key')\n",
    "    \n",
    "    def distance_meters(start,finish):\n",
    "    # return the distance in metres between to latitude/longitude pair point in degrees (i.e.: 40.392436 / -3.6994487)\n",
    "    #start = to_mercator2(lat_start, long_start)\n",
    "    #finish = to_mercator2(lat_finish, long_finish)\n",
    "        return start.distance(finish)\n",
    "    \n",
    "    final_df[\"Distance Between BiciMAD station and Place of interest\"] = final_df.apply(lambda final_df: distance_meters(final_df[\"mercator place\"], final_df[\"mercator station\"]), axis=1)\n",
    "    \n",
    "    final_df_full_info_csv_optimizated = final_df.to_csv(\"datasets/final_df_full_info_optimizated.csv\", sep=',',index=False)\n",
    "    \n",
    "    return final_df"
   ]
  },
  {
   "cell_type": "code",
   "execution_count": 46,
   "id": "727a786e",
   "metadata": {},
   "outputs": [],
   "source": [
    "#final_df = preparar_tabla_final(final_df_place,final_df_bici)\n",
    "#final_df"
   ]
  },
  {
   "cell_type": "markdown",
   "id": "0ff73649",
   "metadata": {},
   "source": [
    "#### preparar la tabla minimizada\n"
   ]
  },
  {
   "cell_type": "code",
   "execution_count": 47,
   "id": "423b6546",
   "metadata": {},
   "outputs": [],
   "source": [
    "def preparar_tabla_final_minimizada(final_df):\n",
    "\n",
    "    total_distance_array_min = final_df.groupby([\"Place of interest\"])[\"Distance Between BiciMAD station and Place of interest\"].min().tolist()\n",
    "\n",
    "    list_min=[]\n",
    "    for i in total_distance_array_min:\n",
    "        linea_para_df = final_df.loc[final_df[\"Distance Between BiciMAD station and Place of interest\"]==i]\n",
    "        linea_para_df_list = linea_para_df.values.tolist()[0]\n",
    "        list_min.append(linea_para_df_list)\n",
    "\n",
    "    final_df_colnames_total = [\"Place of interest\",\"Type of place\",\"Place address\",\"Place distrit\",\"Place neighborhood\",\"Place description\",\"Place transport\",\"Place latitude\",\"Place longitude\",\"mercator place\",\"key\",\"BiciMAD station\",\"Station location\",\"Station latitude\",\"Station longitude\",\"Station base availability\",\"Station Bikes Availability\",\"mercator station\"]\n",
    "    final_df_min_distance = pd.DataFrame(list_min, columns=final_df_colnames_total+[\"Distance Between BiciMAD station and Place of interest\"])\n",
    "    \n",
    "    def place_maps_func(data):\n",
    "        place_maps = \"+\".join(data.split(\" \"))\n",
    "        return place_maps\n",
    "    def g_maps_func(place_maps, bici_maps):\n",
    "        g_maps = \"https://www.google.com/maps/dir/\" + str(place_maps) + \"/\" + str(bici_maps)\n",
    "        return g_maps\n",
    "\n",
    "    final_df_min_distance[\"place_maps\"] = final_df_min_distance[\"Place of interest\"].apply(place_maps_func)\n",
    "    final_df_min_distance[\"bici_maps\"] = final_df_min_distance[\"Station location\"].apply(place_maps_func)\n",
    "    final_df_min_distance[\"g_maps\"] = final_df_min_distance.apply(lambda final_df_min_distance: g_maps_func(final_df_min_distance[\"place_maps\"], final_df_min_distance[\"bici_maps\"]), axis=1)\n",
    "    \n",
    "    final_df_min_distance_csv_optimizated = final_df_min_distance.to_csv(\"datasets/final_df_min_distance_optimizated.csv\", sep=',',index=False)\n",
    "    \n",
    "    return final_df_min_distance"
   ]
  },
  {
   "cell_type": "code",
   "execution_count": 48,
   "id": "6491d6a9",
   "metadata": {},
   "outputs": [],
   "source": [
    "#final_df_min_distance = preparar_tabla_final_minimizada(final_df)\n",
    "#final_df_min_distance"
   ]
  },
  {
   "cell_type": "markdown",
   "id": "d50a6adb",
   "metadata": {},
   "source": [
    "#### open_street_maps"
   ]
  },
  {
   "cell_type": "code",
   "execution_count": null,
   "id": "decb9418",
   "metadata": {},
   "outputs": [],
   "source": [
    "def open_street_maps(final_df_min_distance):\n",
    "    m = folium.Map([40.433462, -3.678595], zoom_start=12)\n",
    "    locs = zip(final_df_min_distance[\"Place latitude\"].tolist(), final_df_min_distance[\"Place longitude\"].tolist())\n",
    "    for location in locs:\n",
    "        #print(location)\n",
    "        if \"nan\" not in str(location):\n",
    "            folium.CircleMarker(location=location).add_to(m)\n",
    "            m.save('datasets/open_street_df.html')\n",
    "    return m"
   ]
  }
 ],
 "metadata": {
  "kernelspec": {
   "display_name": "Python [conda env:proytest]",
   "language": "python",
   "name": "conda-env-proytest-py"
  },
  "language_info": {
   "codemirror_mode": {
    "name": "ipython",
    "version": 3
   },
   "file_extension": ".py",
   "mimetype": "text/x-python",
   "name": "python",
   "nbconvert_exporter": "python",
   "pygments_lexer": "ipython3",
   "version": "3.7.11"
  }
 },
 "nbformat": 4,
 "nbformat_minor": 5
}
