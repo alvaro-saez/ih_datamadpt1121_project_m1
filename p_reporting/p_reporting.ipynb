{
 "cells": [
  {
   "cell_type": "code",
   "execution_count": 22,
   "id": "efd90f5e",
   "metadata": {},
   "outputs": [],
   "source": [
    "import pandas as pd\n",
    "from shapely.geometry import Point\n",
    "import geopandas as gpd   # conda install -c conda-forge geopandas\n",
    "import numpy as np\n",
    "import requests\n",
    "\n",
    "import warnings\n",
    "#warnings.filterwarnings('ignore');\n",
    "pd.set_option('display.max_rows', 500)\n",
    "\n",
    "import email, smtplib, ssl\n",
    "from email import encoders\n",
    "from email.mime.base import MIMEBase\n",
    "from email.mime.multipart import MIMEMultipart\n",
    "from email.mime.text import MIMEText\n",
    "\n",
    "import webbrowser"
   ]
  },
  {
   "cell_type": "markdown",
   "id": "2adcd4d1",
   "metadata": {},
   "source": [
    "#### importar datasets finales"
   ]
  },
  {
   "cell_type": "code",
   "execution_count": 37,
   "id": "91c5c784",
   "metadata": {},
   "outputs": [],
   "source": [
    "#location_min_dataset = \"../datasets/final_df_min_distance_optimizated.csv\"\n",
    "def import_min_dataset(location_min_dataset):\n",
    "    interaction_min_dataset = pd.read_csv(location_min_dataset, sep=',', index_col=False)\n",
    "    return interaction_min_dataset"
   ]
  },
  {
   "cell_type": "code",
   "execution_count": 38,
   "id": "99842480",
   "metadata": {},
   "outputs": [],
   "source": [
    "#interaction_min_dataset = import_min_dataset(location_min_dataset)\n",
    "#interaction_min_dataset"
   ]
  },
  {
   "cell_type": "code",
   "execution_count": 4,
   "id": "38fe5a2b",
   "metadata": {},
   "outputs": [],
   "source": [
    "def bicimad_station(input_parque,interaction_min_dataset):\n",
    "    bicimad_station = \"la estación de bicis más cercana es: \" +str(interaction_min_dataset.loc[(interaction_min_dataset[(\"Place of interest\")]==input_parque), \"BiciMAD station\"].tolist()[0])\n",
    "    return bicimad_station"
   ]
  },
  {
   "cell_type": "code",
   "execution_count": 5,
   "id": "fbb2a827",
   "metadata": {},
   "outputs": [],
   "source": [
    "def bicimad_adress(input_parque,interaction_min_dataset):\n",
    "    bicimad_adress = \"su dirección es: \" + str(interaction_min_dataset.loc[(interaction_min_dataset[(\"Place of interest\")]==input_parque), \"Station location\"].tolist()[0])\n",
    "    return bicimad_adress"
   ]
  },
  {
   "cell_type": "code",
   "execution_count": 6,
   "id": "5bb41d06",
   "metadata": {},
   "outputs": [],
   "source": [
    "def bicimad_bikes(input_parque,interaction_min_dataset):\n",
    "    bicimad_bikes = \"hay \" + str(interaction_min_dataset.loc[(interaction_min_dataset[(\"Place of interest\")]==input_parque), \"Station Bikes Availability\"].tolist()[0]) + \" bicis disponibles\"\n",
    "    return bicimad_bikes"
   ]
  },
  {
   "cell_type": "code",
   "execution_count": 7,
   "id": "6836a804",
   "metadata": {},
   "outputs": [],
   "source": [
    "def bicimad_dejar_bici(input_parque,interaction_min_dataset):\n",
    "    bicimad_dejar_bici =str(interaction_min_dataset.loc[(interaction_min_dataset[(\"Place of interest\")]==input_parque), \"Station base availability\"].tolist()[0]) + \" base para dejar la bici\"\n",
    "    return bicimad_dejar_bici"
   ]
  },
  {
   "cell_type": "code",
   "execution_count": 8,
   "id": "7dc918f2",
   "metadata": {},
   "outputs": [],
   "source": [
    "def place_description(input_parque,interaction_min_dataset):\n",
    "    place_description = str(interaction_min_dataset.loc[(interaction_min_dataset[(\"Place of interest\")]==input_parque), \"Place description\"].tolist()[0])\n",
    "    return place_description"
   ]
  },
  {
   "cell_type": "code",
   "execution_count": 9,
   "id": "02539711",
   "metadata": {},
   "outputs": [],
   "source": [
    "def place_barrio(input_parque,interaction_min_dataset):\n",
    "    place_barrio = \"su barrio es: \" + str(interaction_min_dataset.loc[(interaction_min_dataset[(\"Place of interest\")]==input_parque), \"Place neighborhood\"].tolist()[0])\n",
    "    return place_barrio"
   ]
  },
  {
   "cell_type": "code",
   "execution_count": 10,
   "id": "9a417e42",
   "metadata": {},
   "outputs": [],
   "source": [
    "def place_transport(input_parque,interaction_min_dataset):\n",
    "    place_transport = \"contiene los siguientes transportes: \" + str(interaction_min_dataset.loc[(interaction_min_dataset[(\"Place of interest\")]==input_parque), \"Place transport\"].tolist()[0])\n",
    "    if str(place_transport) == \"contiene los siguientes transportes: nan\":\n",
    "        place_transport = \"lo siento, no hay transporte público cercano, anda un poco que te vendrá bien\"\n",
    "    elif \"Servicio Bicimad\" in str(place_transport):\n",
    "        place_transport = place_transport.split(\"Servicio Bicimad\")[0]\n",
    "    return place_transport"
   ]
  },
  {
   "cell_type": "code",
   "execution_count": 11,
   "id": "1b8a2f72",
   "metadata": {},
   "outputs": [],
   "source": [
    "def bicimad_station_meters(input_parque,interaction_min_dataset):\n",
    "    bicimad_station = \"la estación de bicis más cercana esta a : \" + str(interaction_min_dataset.loc[(interaction_min_dataset[(\"Place of interest\")]==input_parque), \"Distance Between BiciMAD station and Place of interest\"].tolist()[0]) + \" metros\"\n",
    "    return bicimad_station"
   ]
  },
  {
   "cell_type": "code",
   "execution_count": 17,
   "id": "b47328c1",
   "metadata": {},
   "outputs": [],
   "source": [
    "def wikiparque_email_sender(receiver_email,filename):\n",
    "\n",
    "    subject = \"WikiParque\"\n",
    "    body = \"Te adjuntamos en formato CSV la informacion más relevante del conjunto de Paruqes de la Comunidad de Madrid\"\n",
    "    sender_email = \"alvarosaezsanchez@gmail.com\"\n",
    "    receiver_email = receiver_email\n",
    "    password = \"jswfzrfqxpxibfzi\"\n",
    "    \n",
    "    # Create a multipart message and set headers\n",
    "    message = MIMEMultipart()\n",
    "    message[\"From\"] = sender_email\n",
    "    message[\"To\"] = receiver_email\n",
    "    message[\"Subject\"] = subject\n",
    "    message[\"Bcc\"] = receiver_email  # Recommended for mass emails\n",
    "    \n",
    "    # Add body to email\n",
    "    message.attach(MIMEText(body, \"plain\"))\n",
    "    \n",
    "    filename = filename\n",
    "    \n",
    "    # Open PDF file in binary mode\n",
    "    with open(filename, \"rb\") as attachment:\n",
    "        # Add file as application/octet-stream\n",
    "        # Email client can usually download this automatically as attachment\n",
    "        part = MIMEBase(\"application\", \"octet-stream\")\n",
    "        part.set_payload(attachment.read())\n",
    "    \n",
    "    # Encode file in ASCII characters to send by email    \n",
    "    encoders.encode_base64(part)\n",
    "    \n",
    "    # Add header as key/value pair to attachment part\n",
    "    part.add_header(\n",
    "        \"Content-Disposition\",\n",
    "        f\"attachment; filename= {filename}\",\n",
    "    )     \n",
    "    \n",
    "    # Add attachment to message and convert message to string\n",
    "    message.attach(part)\n",
    "    text = message.as_string()\n",
    "\n",
    "    # Log in to server using secure context and send email\n",
    "    context = ssl.create_default_context()\n",
    "    with smtplib.SMTP_SSL(\"smtp.gmail.com\", 465, context=context) as server:\n",
    "        server.login(sender_email, password)\n",
    "        server.sendmail(sender_email, receiver_email, text)"
   ]
  },
  {
   "cell_type": "code",
   "execution_count": 18,
   "id": "4f239259",
   "metadata": {},
   "outputs": [],
   "source": [
    "#receiver_email = input(\"escribe tu email: \")\n",
    "#filename = \"../datasets/final_df_min_distance_optimizated.csv\" \n",
    "#wikiparque_email_sender(receiver_email,filename)"
   ]
  },
  {
   "cell_type": "code",
   "execution_count": 41,
   "id": "5d1d9bde",
   "metadata": {},
   "outputs": [],
   "source": [
    "def open_wikipedia(input_parque,interaction_min_dataset):\n",
    "    final_open_maps_url = str(interaction_min_dataset.loc[(interaction_min_dataset[(\"Place of interest\")]==input_parque), \"g_maps\"].tolist()[0])\n",
    "    return final_open_maps_url"
   ]
  },
  {
   "cell_type": "code",
   "execution_count": 46,
   "id": "00abc24b",
   "metadata": {},
   "outputs": [],
   "source": [
    "#input_parque  = \"Vivero de la Casa de Campo\"\n",
    "#open_wikipedia()"
   ]
  },
  {
   "cell_type": "code",
   "execution_count": 47,
   "id": "2f780f61",
   "metadata": {},
   "outputs": [],
   "source": [
    "#webbrowser.open(open_wikipedia())"
   ]
  },
  {
   "cell_type": "code",
   "execution_count": null,
   "id": "511ce5e8",
   "metadata": {},
   "outputs": [],
   "source": [
    "def restaurantes_google_maps(input_parque,interaction_min_dataset):\n",
    "    final_restaurantes_url = str(interaction_min_dataset.loc[(interaction_min_dataset[(\"Place of interest\")]==input_parque), \"g_maps\"].tolist()[0])\n",
    "    return final_open_maps_url"
   ]
  }
 ],
 "metadata": {
  "kernelspec": {
   "display_name": "Python [conda env:proytest]",
   "language": "python",
   "name": "conda-env-proytest-py"
  },
  "language_info": {
   "codemirror_mode": {
    "name": "ipython",
    "version": 3
   },
   "file_extension": ".py",
   "mimetype": "text/x-python",
   "name": "python",
   "nbconvert_exporter": "python",
   "pygments_lexer": "ipython3",
   "version": "3.7.11"
  }
 },
 "nbformat": 4,
 "nbformat_minor": 5
}
