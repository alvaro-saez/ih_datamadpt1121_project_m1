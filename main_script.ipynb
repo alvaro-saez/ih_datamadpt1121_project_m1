{
 "cells": [
  {
   "cell_type": "code",
   "execution_count": 1,
   "id": "f2fd3162",
   "metadata": {},
   "outputs": [],
   "source": [
    "import pandas as pd\n",
    "from shapely.geometry import Point\n",
    "import geopandas as gpd   # conda install -c conda-forge geopandas\n",
    "import numpy as np\n",
    "import requests"
   ]
  },
  {
   "cell_type": "code",
   "execution_count": null,
   "id": "dccf7035",
   "metadata": {},
   "outputs": [],
   "source": [
    "from p_acquisition import p_acquisition as ac\n",
    "from p_wrangling import p_wrangling as wr\n",
    "from p_analysis import p_analysis as an\n",
    "\n",
    "#def main():\n",
    "\n",
    "#DATA PIPELINE\n",
    "if __name__ == \"__main__\":\n",
    "    location_parque = \"datasets/parques_municipales.csv\"\n",
    "    parques_municipales_df = ac.import_parques_municipales(location_parque)\n",
    "    \n",
    "    location_bici = \"datasets/bicimad_statios_database.csv\"\n",
    "    bicimad_st_df= ac.import_bicimad(location_bici)\n",
    "    \n",
    "\n",
    "    wr.datasets_transformados(parques_municipales_df,bicimad_st_df)\n",
    "    \n",
    "    final_df_place = an.preparar_tabla_place(parques_municipales_df)\n",
    "    final_df_bici = an.preparar_tabla_bicimad(bicimad_st_df)\n",
    "    final_df = an.preparar_tabla_final(final_df_place,final_df_bici)\n",
    "    final_df_min_distance = an.preparar_tabla_final_minimizada(final_df)\n",
    "    \n",
    "    print(\"exportado con éxito\")\n"
   ]
  }
 ],
 "metadata": {
  "kernelspec": {
   "display_name": "Python [conda env:proytest]",
   "language": "python",
   "name": "conda-env-proytest-py"
  },
  "language_info": {
   "codemirror_mode": {
    "name": "ipython",
    "version": 3
   },
   "file_extension": ".py",
   "mimetype": "text/x-python",
   "name": "python",
   "nbconvert_exporter": "python",
   "pygments_lexer": "ipython3",
   "version": "3.7.11"
  }
 },
 "nbformat": 4,
 "nbformat_minor": 5
}
